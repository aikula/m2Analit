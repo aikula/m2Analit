{
 "cells": [
  {
   "cell_type": "markdown",
   "id": "9c8ced22-8652-4d6c-8909-466584b61f73",
   "metadata": {},
   "source": [
    "# Подготовка датасет\n",
    "\n",
    "Этот скрипт поможет подготовить Excel файл с данными о погрузке одного из типов грузов в период с 2018 по август (включительно 2024 года). Оригинальный файл был загружен с сайта Ростата.\n",
    "\n",
    "Датасет предполагается использовать для решения задач по прогнозированию."
   ]
  },
  {
   "cell_type": "code",
   "execution_count": null,
   "id": "d70ad1fc-753f-48ac-add1-81c287c3a9fd",
   "metadata": {},
   "outputs": [],
   "source": [
    "#читаем файл с данными\n",
    "import pandas as pd\n",
    "\n",
    "# сохраним в этой переменной данные по всем грузам\n",
    "data={}\n",
    "start_year=2018\n",
    "end_year=2025\n",
    "\n",
    "#цикл с 2018 года по 2025 включительно \n",
    "for y in range(start_year,end_year+1):\n",
    "    ys=str(y) # преобразуем год в строку\n",
    "    # читаем файл листом номером года\n",
    "    df=pd.read_excel(\"Pogruzka-08-2025.xlsx\", sheet_name=ys, skiprows=3)\n",
    "    df.rename(columns={'Unnamed: 0':'Груз'}, inplace=True)\n",
    "    df.drop(index=[1], inplace=True)\n",
    "\n",
    "    sheet={}\n",
    "    for s in df.index:\n",
    "        name=df.loc[s,'Груз']\n",
    "        if pd.isna(name):\n",
    "            break\n",
    "        sheet[name]={}\n",
    "        for c in df.columns[1:]:\n",
    "            sheet[name][c]=df.loc[s,c]\n",
    "    data[y]=sheet\n",
    "\n",
    "print('Выберите тип груза из списка:')\n",
    "list(sheet.keys())"
   ]
  },
  {
   "cell_type": "code",
   "execution_count": null,
   "id": "a9dcbfdd-9d54-4d98-95b3-971da7c416b1",
   "metadata": {},
   "outputs": [],
   "source": [
    "#скопируйте в качестве зачения переменной название груза в кавычках\n",
    "gruz_name='химические и минеральные удобрения'\n",
    "\n",
    "import calendar\n",
    "\n",
    "def last_day_of_month(year, month):\n",
    "    return calendar.monthrange(year, month)[1]\n",
    "\n",
    "def convert_to_date(year, month):\n",
    "    last_day = last_day_of_month(year, month)\n",
    "    return pd.to_datetime(f\"{year}-{month:02d}-{last_day:02d}\")\n",
    "\n",
    "# формируем датасет по одному грузу\n",
    "one_item=[]\n",
    "\n",
    "# собираем данные с 2018 года по 2025 включительно\n",
    "for year in range(start_year,end_year+1):\n",
    "    month=1 #номер стартового месяц и цикл по месяцам\n",
    "    for one in data[year][gruz_name]:\n",
    "        if 'год' in one: continue # не сохраняем стобец итого\n",
    "        # собираем данные в список словарей\n",
    "        one_item.append({'date':convert_to_date(year, month),  'value':data[year][gruz_name][one]})\n",
    "        month+=1\n",
    "df_one=pd.DataFrame(one_item)\n",
    "df_one.dropna(inplace=True)\n",
    "df_one.set_index('date', inplace=True)\n",
    "\n",
    "#записываем результат в файл timeseries.xlsx\n",
    "df_one.to_excel('timeseries.xlsx')"
   ]
  },
  {
   "cell_type": "code",
   "execution_count": null,
   "id": "b874c471-715b-4677-9249-f289b8cd4dd3",
   "metadata": {},
   "outputs": [],
   "source": []
  }
 ],
 "metadata": {
  "kernelspec": {
   "display_name": "Python 3 (ipykernel)",
   "language": "python",
   "name": "python3"
  },
  "language_info": {
   "codemirror_mode": {
    "name": "ipython",
    "version": 3
   },
   "file_extension": ".py",
   "mimetype": "text/x-python",
   "name": "python",
   "nbconvert_exporter": "python",
   "pygments_lexer": "ipython3",
   "version": "3.13.7"
  }
 },
 "nbformat": 4,
 "nbformat_minor": 5
}
