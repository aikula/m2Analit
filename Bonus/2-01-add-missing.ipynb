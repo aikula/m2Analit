{
 "cells": [
  {
   "cell_type": "markdown",
   "id": "03c57e20-dca2-4094-a2a1-b3a880545250",
   "metadata": {},
   "source": [
    "# Проспуски данных\n",
    "\n",
    "Поговорим о том, как поступать с пропущенными данными. "
   ]
  },
  {
   "cell_type": "code",
   "execution_count": null,
   "id": "1f5dd62d-a5c1-46bb-874f-d8607cd84ed2",
   "metadata": {},
   "outputs": [],
   "source": [
    "# загрузим данные\n",
    "import pandas as pd\n",
    "import numpy as np\n",
    "\n",
    "# Загрузка ранее созданного датасета\n",
    "df = pd.read_csv('railway_freight_data.csv')\n",
    "\n",
    "# Вывод первых 5 строк датасета\n",
    "df.head()"
   ]
  },
  {
   "cell_type": "markdown",
   "id": "276e8ecd-519c-4eaa-9405-ad3e3f806362",
   "metadata": {},
   "source": [
    "В загруженном датасете отсутсвуют не заполненные поля. \"Исправим\" это и добавим некоторое количество пропущенных значений."
   ]
  },
  {
   "cell_type": "code",
   "execution_count": null,
   "id": "94f7ec27-6729-431d-8321-ba7cfcd46b57",
   "metadata": {},
   "outputs": [],
   "source": [
    "# Определение процента пропущенных значений (от 1% до 3%)\n",
    "percent_missing = np.random.uniform(0.01, 0.03)\n",
    "def introduce_missing_values(df, col_name):\n",
    "    num_missing = int(len(df) * percent_missing)  # Количество пропущенных значений\n",
    "    missing_indices = np.random.choice(df.index, num_missing, replace=False)  # Выбор индексов для пропусков\n",
    "    df.loc[missing_indices, col_name] = np.nan  # Внесение пропущенных значений\n",
    "\n",
    "# Применение функции ко всем столбцам, кроме 'Train_ID'\n",
    "for col in df.columns:\n",
    "    if col != 'Train_ID':\n",
    "        introduce_missing_values(df, col)\n",
    "\n",
    "df.sample(3)"
   ]
  },
  {
   "cell_type": "markdown",
   "id": "bdac088c-d0fd-4eb6-bc3a-62dded2c6fde",
   "metadata": {},
   "source": [
    "# Оценка пропущенных данных\n",
    "\n",
    "Часто данные содержат пропуски, которые могут искажать анализ. Поэтому важно выявить наличие таких пропусков на начальных этапах EDA.\n",
    "\n",
    "#### Описание проблемы пропущенных данных\n",
    "\n",
    "Пропущенные данные — это одна из самых распространенных проблем при работе с реальными датасетами. Они могут возникать по разным причинам: человеческие ошибки, технические неполадки, некорректная загрузка данных и т.д. Для анализа необходимо определить, что делать с пропусками: удалять их или заполнять, в зависимости от контекста.\n",
    "\n",
    "### Поиск пропущенных данных\n",
    "\n",
    "Начнем с поиска пропущенных данных в нашем датасете. Для этого Pandas предоставляет несколько методов.\n",
    "\n",
    "##### Пример поиска пропущенных данных:\n",
    "\n",
    "```python\n",
    "# Проверка наличия пропущенных данных по каждому столбцу\n",
    "missing_data = df.isnull().sum()\n",
    "\n",
    "# Вывод количества пропущенных значений в каждом столбце\n",
    "print(missing_data)\n",
    "```\n",
    "\n",
    "### Пояснение:\n",
    "- **`isnull()`** — возвращает DataFrame, где каждое значение — это логическое значение (True, если значение пропущено, False — если нет).\n",
    "- **`sum()`** — суммирует количество пропусков в каждом столбце."
   ]
  },
  {
   "cell_type": "code",
   "execution_count": null,
   "id": "eada22da-8e22-45ca-801b-dba3d6d17eef",
   "metadata": {},
   "outputs": [],
   "source": []
  },
  {
   "cell_type": "markdown",
   "id": "9014a747-4dce-4cc9-ac76-d026ae76f625",
   "metadata": {},
   "source": [
    "## Удаление пропусков\n",
    "\n",
    "Когда пропущенных значений немного, возможно, имеет смысл просто удалить строки с пропусками. Это можно сделать с помощью метода **`dropna()`**.\n",
    "\n",
    "##### Пример удаления строк с пропусками:\n",
    "\n",
    "```python\n",
    "# Удаление всех строк, в которых есть хотя бы одно пропущенное значение\n",
    "df_cleaned = df.dropna()\n",
    "\n",
    "# Вывод первых 5 строк очищенного DataFrame\n",
    "print(df_cleaned.head())\n",
    "```\n",
    "\n",
    "### Пояснение:\n",
    "- **`dropna()`** — удаляет все строки, содержащие хотя бы одно пропущенное значение."
   ]
  },
  {
   "cell_type": "code",
   "execution_count": null,
   "id": "21e76982-4e2a-4c3f-b61d-76527275d2f1",
   "metadata": {},
   "outputs": [],
   "source": []
  },
  {
   "cell_type": "markdown",
   "id": "97345620-d897-4791-a222-a44ed40a2389",
   "metadata": {},
   "source": [
    "### Удаление строк с пропусками в определенных столбцах:\n",
    "\n",
    "Иногда нужно удалить строки, в которых пропущены значения только в определенных столбцах.\n",
    "\n",
    "```python\n",
    "# Удаление строк, где пропущено значение в столбце 'Weight_Tons'\n",
    "df_cleaned = df.dropna(subset=['Weight_Tons'])\n",
    "\n",
    "# Вывод первых 5 строк очищенного DataFrame\n",
    "print(df_cleaned.head())\n",
    "```\n",
    "\n",
    "### Пояснение:\n",
    "- **`subset=['Weight_Tons']`** — указывает, что нужно удалять только те строки, где есть пропуски в конкретном столбце."
   ]
  },
  {
   "cell_type": "code",
   "execution_count": null,
   "id": "9ccfd81c-8c8c-4f82-a029-62b5be7c108b",
   "metadata": {},
   "outputs": [],
   "source": []
  },
  {
   "cell_type": "markdown",
   "id": "80d6fe71-74be-418f-a740-168ee3f0c048",
   "metadata": {},
   "source": [
    "## Заполнение пропусков\n",
    "\n",
    "Иногда удаление данных неприемлемо, так как это может привести к потере важных данных. В таком случае пропущенные значения можно заполнить. Pandas предоставляет метод **`fillna()`**, который позволяет заполнить пропуски различными способами.\n",
    "\n",
    "##### Пример заполнения пропусков константой:\n",
    "\n",
    "```python\n",
    "# Заполнение всех пропусков значением 0\n",
    "df_filled = df.fillna(0)\n",
    "\n",
    "# Вывод первых 5 строк после заполнения\n",
    "print(df_filled.head())\n",
    "```\n",
    "\n",
    "### Пояснение:\n",
    "- **`fillna(0)`** — заполняет все пропущенные значения нулями."
   ]
  },
  {
   "cell_type": "code",
   "execution_count": null,
   "id": "9e70ae24-bb1d-4235-ad54-80f7ed6093b8",
   "metadata": {},
   "outputs": [],
   "source": []
  },
  {
   "cell_type": "markdown",
   "id": "08f0a6c1-1eb2-49ca-ad4b-0f54dcbe9612",
   "metadata": {},
   "source": [
    "### Заполнение медианой или средним значением:\n",
    "\n",
    "Заполнение пропусков средними значениями (или медианой) — это частая практика, особенно для числовых данных. Рассмотрим пример заполнения пропущенных значений в столбце `Weight_Tons` медианой.\n",
    "\n",
    "```python\n",
    "# Заполнение пропусков в столбце 'Weight_Tons' медианой\n",
    "median_weight = df['Weight_Tons'].median()\n",
    "df_filled = df['Weight_Tons'].fillna(median_weight)\n",
    "\n",
    "# Вывод первых 5 строк после заполнения медианой\n",
    "print(df_filled.head())\n",
    "```\n",
    "\n",
    "### Пояснение:\n",
    "- **`median()`** — возвращает медиану для столбца.\n",
    "- **`fillna(median_weight)`** — заполняет пропуски медианой."
   ]
  },
  {
   "cell_type": "code",
   "execution_count": null,
   "id": "8b2e6d3b-8e7e-45e7-8042-0d8e33ad977b",
   "metadata": {},
   "outputs": [],
   "source": []
  },
  {
   "cell_type": "markdown",
   "id": "ca7067b1-6d1a-4e67-bc76-e7ed735c6bee",
   "metadata": {},
   "source": [
    "### Заполнение методом \"вперед\" или \"назад\" (forward/backward fill):\n",
    "\n",
    "Заполнение пропусков предыдущим или последующим значением используется, когда данные имеют временную структуру или контекстные зависимости.\n",
    "\n",
    "```python\n",
    "# Заполнение пропусков предыдущими значениями (forward fill)\n",
    "df_filled_ffill = df.fillna(method='ffill')\n",
    "\n",
    "# Заполнение пропусков последующими значениями (backward fill)\n",
    "df_filled_bfill = df.fillna(method='bfill')\n",
    "\n",
    "# Вывод первых 5 строк после заполнения\n",
    "print(df_filled_ffill.head())\n",
    "print(df_filled_bfill.head())\n",
    "```\n",
    "\n",
    "### Пояснение:\n",
    "- **`method='ffill'`** — заполняет пропуски предыдущими значениями (по направлению вперед).\n",
    "- **`method='bfill'`** — заполняет пропуски последующими значениями (по направлению назад)."
   ]
  },
  {
   "cell_type": "code",
   "execution_count": null,
   "id": "2ffa0ca8-f9fc-4662-b29f-177cb554c787",
   "metadata": {},
   "outputs": [],
   "source": []
  }
 ],
 "metadata": {
  "kernelspec": {
   "display_name": "Python 3 (ipykernel)",
   "language": "python",
   "name": "python3"
  },
  "language_info": {
   "codemirror_mode": {
    "name": "ipython",
    "version": 3
   },
   "file_extension": ".py",
   "mimetype": "text/x-python",
   "name": "python",
   "nbconvert_exporter": "python",
   "pygments_lexer": "ipython3",
   "version": "3.11.6"
  }
 },
 "nbformat": 4,
 "nbformat_minor": 5
}
