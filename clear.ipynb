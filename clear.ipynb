{
 "cells": [
  {
   "cell_type": "code",
   "execution_count": 10,
   "id": "79ea54ec-ee89-49f7-ad67-c7021fd276ef",
   "metadata": {},
   "outputs": [],
   "source": [
    "import pandas as pd\n",
    "df=pd.read_csv('sales_dataset.csv')"
   ]
  },
  {
   "cell_type": "code",
   "execution_count": 12,
   "id": "1109b01a-8ce7-415d-b529-0412c77737d5",
   "metadata": {},
   "outputs": [
    {
     "data": {
      "text/html": [
       "<div>\n",
       "<style scoped>\n",
       "    .dataframe tbody tr th:only-of-type {\n",
       "        vertical-align: middle;\n",
       "    }\n",
       "\n",
       "    .dataframe tbody tr th {\n",
       "        vertical-align: top;\n",
       "    }\n",
       "\n",
       "    .dataframe thead th {\n",
       "        text-align: right;\n",
       "    }\n",
       "</style>\n",
       "<table border=\"1\" class=\"dataframe\">\n",
       "  <thead>\n",
       "    <tr style=\"text-align: right;\">\n",
       "      <th></th>\n",
       "      <th>OrderID</th>\n",
       "      <th>OrderDate</th>\n",
       "      <th>Product</th>\n",
       "      <th>Quantity</th>\n",
       "      <th>Price</th>\n",
       "      <th>Total</th>\n",
       "    </tr>\n",
       "  </thead>\n",
       "  <tbody>\n",
       "    <tr>\n",
       "      <th>0</th>\n",
       "      <td>1</td>\n",
       "      <td>June 13, 2025 03:01</td>\n",
       "      <td>Widget</td>\n",
       "      <td>7,6</td>\n",
       "      <td>144.61</td>\n",
       "      <td>1099.036</td>\n",
       "    </tr>\n",
       "    <tr>\n",
       "      <th>1</th>\n",
       "      <td>2</td>\n",
       "      <td>2025-03-04</td>\n",
       "      <td>Gadget</td>\n",
       "      <td>15 шт</td>\n",
       "      <td>285.01</td>\n",
       "      <td>4275.150</td>\n",
       "    </tr>\n",
       "    <tr>\n",
       "      <th>2</th>\n",
       "      <td>3</td>\n",
       "      <td>2025-06-23</td>\n",
       "      <td>Gadget</td>\n",
       "      <td>11 units</td>\n",
       "      <td>197,63</td>\n",
       "      <td>2173.930</td>\n",
       "    </tr>\n",
       "    <tr>\n",
       "      <th>3</th>\n",
       "      <td>4</td>\n",
       "      <td>2025-06-01</td>\n",
       "      <td>Widget</td>\n",
       "      <td>8,8</td>\n",
       "      <td>486.14</td>\n",
       "      <td>4278.032</td>\n",
       "    </tr>\n",
       "    <tr>\n",
       "      <th>4</th>\n",
       "      <td>5</td>\n",
       "      <td>2025-01-24</td>\n",
       "      <td>NaN</td>\n",
       "      <td>7</td>\n",
       "      <td>425.97</td>\n",
       "      <td>2981.790</td>\n",
       "    </tr>\n",
       "    <tr>\n",
       "      <th>...</th>\n",
       "      <td>...</td>\n",
       "      <td>...</td>\n",
       "      <td>...</td>\n",
       "      <td>...</td>\n",
       "      <td>...</td>\n",
       "      <td>...</td>\n",
       "    </tr>\n",
       "    <tr>\n",
       "      <th>95</th>\n",
       "      <td>96</td>\n",
       "      <td>2025-02-04</td>\n",
       "      <td>Gadget</td>\n",
       "      <td>16 units</td>\n",
       "      <td>275.31</td>\n",
       "      <td>4404.960</td>\n",
       "    </tr>\n",
       "    <tr>\n",
       "      <th>96</th>\n",
       "      <td>97</td>\n",
       "      <td>May 22, 2025 04:17</td>\n",
       "      <td>Gadget</td>\n",
       "      <td>5,4</td>\n",
       "      <td>350.93</td>\n",
       "      <td>1895.022</td>\n",
       "    </tr>\n",
       "    <tr>\n",
       "      <th>97</th>\n",
       "      <td>98</td>\n",
       "      <td>June 04, 2025 06:45</td>\n",
       "      <td>Gadget</td>\n",
       "      <td>3,4</td>\n",
       "      <td>121,99</td>\n",
       "      <td>414.766</td>\n",
       "    </tr>\n",
       "    <tr>\n",
       "      <th>98</th>\n",
       "      <td>99</td>\n",
       "      <td>February 22, 2025 21:40</td>\n",
       "      <td>Gadget</td>\n",
       "      <td>12</td>\n",
       "      <td>95.73</td>\n",
       "      <td>1148.760</td>\n",
       "    </tr>\n",
       "    <tr>\n",
       "      <th>99</th>\n",
       "      <td>100</td>\n",
       "      <td>2025-05-10</td>\n",
       "      <td>Widget</td>\n",
       "      <td>8,0</td>\n",
       "      <td>491.26</td>\n",
       "      <td>3930.080</td>\n",
       "    </tr>\n",
       "  </tbody>\n",
       "</table>\n",
       "<p>100 rows × 6 columns</p>\n",
       "</div>"
      ],
      "text/plain": [
       "    OrderID                OrderDate Product  Quantity   Price     Total\n",
       "0         1      June 13, 2025 03:01  Widget       7,6  144.61  1099.036\n",
       "1         2               2025-03-04  Gadget     15 шт  285.01  4275.150\n",
       "2         3               2025-06-23  Gadget  11 units  197,63  2173.930\n",
       "3         4               2025-06-01  Widget       8,8  486.14  4278.032\n",
       "4         5               2025-01-24     NaN         7  425.97  2981.790\n",
       "..      ...                      ...     ...       ...     ...       ...\n",
       "95       96               2025-02-04  Gadget  16 units  275.31  4404.960\n",
       "96       97       May 22, 2025 04:17  Gadget       5,4  350.93  1895.022\n",
       "97       98      June 04, 2025 06:45  Gadget       3,4  121,99   414.766\n",
       "98       99  February 22, 2025 21:40  Gadget        12   95.73  1148.760\n",
       "99      100               2025-05-10  Widget       8,0  491.26  3930.080\n",
       "\n",
       "[100 rows x 6 columns]"
      ]
     },
     "execution_count": 12,
     "metadata": {},
     "output_type": "execute_result"
    }
   ],
   "source": [
    "df"
   ]
  },
  {
   "cell_type": "code",
   "execution_count": 15,
   "id": "8af07c11-9123-4fc1-af0d-65a580cfed1b",
   "metadata": {},
   "outputs": [
    {
     "data": {
      "text/plain": [
       "<Axes: >"
      ]
     },
     "execution_count": 15,
     "metadata": {},
     "output_type": "execute_result"
    },
    {
     "data": {
      "image/png": "[encoded data removed]",
      "text/plain": [
       "<Figure size 640x480 with 1 Axes>"
      ]
     },
     "metadata": {},
     "output_type": "display_data"
    }
   ],
   "source": [
    "df['Quantity'].hist()"
   ]
  },
  {
   "cell_type": "code",
   "execution_count": 4,
   "id": "a5001b3d-83cd-40d2-a363-7c190385df3b",
   "metadata": {},
   "outputs": [],
   "source": [
    "df['OrderDate'] = pd.to_datetime(df['OrderDate'], dayfirst=True, errors='coerce')"
   ]
  },
  {
   "cell_type": "code",
   "execution_count": 5,
   "id": "f3b0be73-00ae-4387-a30d-4d6636cf509f",
   "metadata": {},
   "outputs": [
    {
     "name": "stdout",
     "output_type": "stream",
     "text": [
      "<class 'pandas.core.frame.DataFrame'>\n",
      "RangeIndex: 100 entries, 0 to 99\n",
      "Data columns (total 6 columns):\n",
      " #   Column     Non-Null Count  Dtype         \n",
      "---  ------     --------------  -----         \n",
      " 0   OrderID    100 non-null    int64         \n",
      " 1   OrderDate  22 non-null     datetime64[ns]\n",
      " 2   Product    68 non-null     object        \n",
      " 3   Quantity   100 non-null    object        \n",
      " 4   Price      100 non-null    object        \n",
      " 5   Total      94 non-null     float64       \n",
      "dtypes: datetime64[ns](1), float64(1), int64(1), object(3)\n",
      "memory usage: 4.8+ KB\n"
     ]
    }
   ],
   "source": [
    "df.info()"
   ]
  },
  {
   "cell_type": "code",
   "execution_count": 6,
   "id": "4cbca86b-3464-4c09-b6ee-3abc5767f6af",
   "metadata": {},
   "outputs": [],
   "source": [
    "df['Product'] = df['Product'].fillna('Unknown')"
   ]
  },
  {
   "cell_type": "code",
   "execution_count": 7,
   "id": "ff4b5791-b72d-4a4e-af79-bec691170bea",
   "metadata": {},
   "outputs": [],
   "source": [
    "df['Quantity_clean'] = (\n",
    "    df['Quantity']\n",
    "    .str.extract(r'(\\d+[\\.,]?\\d*)')[0]\n",
    "    .str.replace(',', '.')\n",
    "    .astype(float)\n",
    ")"
   ]
  },
  {
   "cell_type": "code",
   "execution_count": 8,
   "id": "0ef29a36-bb87-4588-9153-46389813c0b3",
   "metadata": {},
   "outputs": [],
   "source": [
    "df['Price_clean'] = (\n",
    "    df['Price']\n",
    "    .str.replace(' ', '', regex=False)\n",
    "    .str.replace(',', '.', regex=False)\n",
    "    .astype(float)\n",
    ")\n"
   ]
  },
  {
   "cell_type": "code",
   "execution_count": null,
   "id": "a47497eb-39cf-4416-84b8-b9cff2aeb349",
   "metadata": {},
   "outputs": [],
   "source": [
    "df['Total_recomputed'] = df['Quantity_clean'] * df['Price_clean']\n",
    "# Fill missing Total with recomputed values\n",
    "df['Total'] = df['Total'].fillna(df['Total_recomputed'])"
   ]
  },
  {
   "cell_type": "code",
   "execution_count": 17,
   "id": "095d53fb-9ea7-4faf-8124-604c7456a8f4",
   "metadata": {},
   "outputs": [],
   "source": [
    "Q1 = df['Total'].quantile(0.25)\n",
    "Q3 = df['Total'].quantile(0.75)\n",
    "IQR = Q3 - Q1\n",
    "lower_bound = Q1 - 1.5 * IQR\n",
    "upper_bound = Q3 + 1.5 * IQR\n",
    "\n",
    "mask = df['Total'].between(lower_bound, upper_bound)\n",
    "df_clean = df.loc[mask].copy()"
   ]
  },
  {
   "cell_type": "code",
   "execution_count": null,
   "id": "bd71a35e-376d-4913-b346-f293fbebafe8",
   "metadata": {},
   "outputs": [],
   "source": []
  }
 ],
 "metadata": {
  "kernelspec": {
   "display_name": "Python 3 (ipykernel)",
   "language": "python",
   "name": "python3"
  },
  "language_info": {
   "codemirror_mode": {
    "name": "ipython",
    "version": 3
   },
   "file_extension": ".py",
   "mimetype": "text/x-python",
   "name": "python",
   "nbconvert_exporter": "python",
   "pygments_lexer": "ipython3",
   "version": "3.11.6"
  }
 },
 "nbformat": 4,
 "nbformat_minor": 5
}
